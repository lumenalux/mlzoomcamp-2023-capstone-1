{
  "cells": [
    {
      "cell_type": "markdown",
      "metadata": {
        "id": "Qhwf0lXuamu8"
      },
      "source": [
        "## Load and prepare the data"
      ]
    },
    {
      "cell_type": "code",
      "execution_count": 6,
      "metadata": {
        "id": "IonP01KjZHhP"
      },
      "outputs": [],
      "source": [
        "import pandas as pd\n",
        "\n",
        "from sklearn.model_selection import train_test_split\n",
        "from sklearn.impute import SimpleImputer\n",
        "from imblearn.over_sampling import SMOTE\n",
        "\n",
        "RANDOM_STATE = 42\n",
        "\n",
        "# Load the dataset\n",
        "df = pd.read_csv('dataset/credit-evaluation.csv')\n",
        "\n",
        "# Handling missing values\n",
        "imputer = SimpleImputer(strategy='median')\n",
        "df[df.columns] = imputer.fit_transform(df)\n",
        "\n",
        "# Split the data\n",
        "X = df.drop(['TARGET', 'id'], axis=1)\n",
        "y = df['TARGET']\n",
        "X_train, X_test, y_train, y_test = train_test_split(X, y, test_size=0.3, random_state=RANDOM_STATE)\n",
        "\n",
        "# Balance the training data using SMOTE\n",
        "smote = SMOTE(random_state=RANDOM_STATE)\n",
        "X_train_balanced, y_train_balanced = smote.fit_resample(X_train, y_train)"
      ]
    },
    {
      "cell_type": "markdown",
      "metadata": {
        "id": "KYqkdUhxb445"
      },
      "source": [
        "## What the models would perform the best in this dataset?"
      ]
    },
    {
      "cell_type": "code",
      "execution_count": 7,
      "metadata": {
        "colab": {
          "base_uri": "https://localhost:8080/"
        },
        "id": "5yefQBl4cl0P",
        "outputId": "ba87cb2a-1282-407b-d3a9-61ac4541fc85"
      },
      "outputs": [
        {
          "name": "stdout",
          "output_type": "stream",
          "text": [
            "AdaBoost\n",
            "              precision    recall  f1-score   support\n",
            "\n",
            "         0.0       0.84      0.93      0.88      4986\n",
            "         1.0       0.23      0.10      0.14      1014\n",
            "\n",
            "    accuracy                           0.79      6000\n",
            "   macro avg       0.54      0.52      0.51      6000\n",
            "weighted avg       0.73      0.79      0.76      6000\n",
            "\n",
            "----\n",
            "\n",
            "\n",
            "HistGradientBoosting\n",
            "              precision    recall  f1-score   support\n",
            "\n",
            "         0.0       0.84      0.98      0.90      4986\n",
            "         1.0       0.41      0.06      0.11      1014\n",
            "\n",
            "    accuracy                           0.83      6000\n",
            "   macro avg       0.63      0.52      0.51      6000\n",
            "weighted avg       0.77      0.83      0.77      6000\n",
            "\n",
            "----\n",
            "\n",
            "\n",
            "RandomForest\n",
            "              precision    recall  f1-score   support\n",
            "\n",
            "         0.0       0.84      0.97      0.90      4986\n",
            "         1.0       0.35      0.07      0.12      1014\n",
            "\n",
            "    accuracy                           0.82      6000\n",
            "   macro avg       0.59      0.52      0.51      6000\n",
            "weighted avg       0.75      0.82      0.77      6000\n",
            "\n",
            "----\n",
            "\n",
            "\n",
            "LogisticRegression\n",
            "              precision    recall  f1-score   support\n",
            "\n",
            "         0.0       0.87      0.62      0.72      4986\n",
            "         1.0       0.22      0.54      0.32      1014\n",
            "\n",
            "    accuracy                           0.61      6000\n",
            "   macro avg       0.55      0.58      0.52      6000\n",
            "weighted avg       0.76      0.61      0.65      6000\n",
            "\n",
            "----\n",
            "\n",
            "\n",
            "KNeighbors\n",
            "              precision    recall  f1-score   support\n",
            "\n",
            "         0.0       0.85      0.61      0.71      4986\n",
            "         1.0       0.20      0.47      0.28      1014\n",
            "\n",
            "    accuracy                           0.59      6000\n",
            "   macro avg       0.52      0.54      0.50      6000\n",
            "weighted avg       0.74      0.59      0.64      6000\n",
            "\n",
            "----\n",
            "\n",
            "\n",
            "MLPClassifier\n",
            "              precision    recall  f1-score   support\n",
            "\n",
            "         0.0       0.85      0.72      0.78      4986\n",
            "         1.0       0.20      0.35      0.26      1014\n",
            "\n",
            "    accuracy                           0.66      6000\n",
            "   macro avg       0.52      0.54      0.52      6000\n",
            "weighted avg       0.74      0.66      0.69      6000\n",
            "\n",
            "----\n",
            "\n",
            "\n",
            "SVC\n",
            "              precision    recall  f1-score   support\n",
            "\n",
            "         0.0       0.88      0.44      0.59      4986\n",
            "         1.0       0.20      0.70      0.31      1014\n",
            "\n",
            "    accuracy                           0.48      6000\n",
            "   macro avg       0.54      0.57      0.45      6000\n",
            "weighted avg       0.76      0.48      0.54      6000\n",
            "\n",
            "----\n",
            "\n",
            "\n",
            "DecisionTree\n",
            "              precision    recall  f1-score   support\n",
            "\n",
            "         0.0       0.84      0.78      0.81      4986\n",
            "         1.0       0.19      0.26      0.22      1014\n",
            "\n",
            "    accuracy                           0.69      6000\n",
            "   macro avg       0.51      0.52      0.51      6000\n",
            "weighted avg       0.73      0.69      0.71      6000\n",
            "\n",
            "----\n",
            "\n",
            "\n",
            "ExtraTree\n",
            "              precision    recall  f1-score   support\n",
            "\n",
            "         0.0       0.84      0.73      0.78      4986\n",
            "         1.0       0.18      0.29      0.23      1014\n",
            "\n",
            "    accuracy                           0.66      6000\n",
            "   macro avg       0.51      0.51      0.50      6000\n",
            "weighted avg       0.73      0.66      0.69      6000\n",
            "\n",
            "----\n",
            "\n",
            "\n",
            "DummyClassifier\n",
            "              precision    recall  f1-score   support\n",
            "\n",
            "         0.0       0.83      0.50      0.62      4986\n",
            "         1.0       0.17      0.50      0.25      1014\n",
            "\n",
            "    accuracy                           0.50      6000\n",
            "   macro avg       0.50      0.50      0.44      6000\n",
            "weighted avg       0.72      0.50      0.56      6000\n",
            "\n",
            "----\n",
            "\n",
            "\n",
            "XGBoost\n",
            "              precision    recall  f1-score   support\n",
            "\n",
            "         0.0       0.84      0.96      0.90      4986\n",
            "         1.0       0.39      0.11      0.18      1014\n",
            "\n",
            "    accuracy                           0.82      6000\n",
            "   macro avg       0.61      0.54      0.54      6000\n",
            "weighted avg       0.77      0.82      0.78      6000\n",
            "\n",
            "----\n",
            "\n",
            "\n",
            "Sorted by Accuracy:\n",
            "                    Model  Accuracy  Precision    Recall  F1-Score\n",
            "1   HistGradientBoosting  0.826667   0.413333  0.061144  0.106529\n",
            "2           RandomForest  0.820667   0.348039  0.070020  0.116585\n",
            "10               XGBoost  0.819667   0.385906  0.113412  0.175305\n",
            "0               AdaBoost  0.791667   0.234234  0.102564  0.142661\n",
            "7           DecisionTree  0.689667   0.190962  0.258383  0.219614\n",
            "5          MLPClassifier  0.660000   0.204152  0.349112  0.257642\n",
            "8              ExtraTree  0.660000   0.183724  0.293886  0.226100\n",
            "3     LogisticRegression  0.605833   0.223948  0.540434  0.316671\n",
            "4             KNeighbors  0.588500   0.198007  0.470414  0.278703\n",
            "9        DummyClassifier  0.498000   0.169424  0.504931  0.253717\n",
            "6                    SVC  0.483500   0.202568  0.700197  0.314229\n",
            "\n",
            "Sorted by Precision:\n",
            "                    Model  Accuracy  Precision    Recall  F1-Score\n",
            "1   HistGradientBoosting  0.826667   0.413333  0.061144  0.106529\n",
            "10               XGBoost  0.819667   0.385906  0.113412  0.175305\n",
            "2           RandomForest  0.820667   0.348039  0.070020  0.116585\n",
            "0               AdaBoost  0.791667   0.234234  0.102564  0.142661\n",
            "3     LogisticRegression  0.605833   0.223948  0.540434  0.316671\n",
            "5          MLPClassifier  0.660000   0.204152  0.349112  0.257642\n",
            "6                    SVC  0.483500   0.202568  0.700197  0.314229\n",
            "4             KNeighbors  0.588500   0.198007  0.470414  0.278703\n",
            "7           DecisionTree  0.689667   0.190962  0.258383  0.219614\n",
            "8              ExtraTree  0.660000   0.183724  0.293886  0.226100\n",
            "9        DummyClassifier  0.498000   0.169424  0.504931  0.253717\n",
            "\n",
            "Sorted by Recall:\n",
            "                    Model  Accuracy  Precision    Recall  F1-Score\n",
            "6                    SVC  0.483500   0.202568  0.700197  0.314229\n",
            "3     LogisticRegression  0.605833   0.223948  0.540434  0.316671\n",
            "9        DummyClassifier  0.498000   0.169424  0.504931  0.253717\n",
            "4             KNeighbors  0.588500   0.198007  0.470414  0.278703\n",
            "5          MLPClassifier  0.660000   0.204152  0.349112  0.257642\n",
            "8              ExtraTree  0.660000   0.183724  0.293886  0.226100\n",
            "7           DecisionTree  0.689667   0.190962  0.258383  0.219614\n",
            "10               XGBoost  0.819667   0.385906  0.113412  0.175305\n",
            "0               AdaBoost  0.791667   0.234234  0.102564  0.142661\n",
            "2           RandomForest  0.820667   0.348039  0.070020  0.116585\n",
            "1   HistGradientBoosting  0.826667   0.413333  0.061144  0.106529\n",
            "\n",
            "Sorted by F1-Score:\n",
            "                    Model  Accuracy  Precision    Recall  F1-Score\n",
            "3     LogisticRegression  0.605833   0.223948  0.540434  0.316671\n",
            "6                    SVC  0.483500   0.202568  0.700197  0.314229\n",
            "4             KNeighbors  0.588500   0.198007  0.470414  0.278703\n",
            "5          MLPClassifier  0.660000   0.204152  0.349112  0.257642\n",
            "9        DummyClassifier  0.498000   0.169424  0.504931  0.253717\n",
            "8              ExtraTree  0.660000   0.183724  0.293886  0.226100\n",
            "7           DecisionTree  0.689667   0.190962  0.258383  0.219614\n",
            "10               XGBoost  0.819667   0.385906  0.113412  0.175305\n",
            "0               AdaBoost  0.791667   0.234234  0.102564  0.142661\n",
            "2           RandomForest  0.820667   0.348039  0.070020  0.116585\n",
            "1   HistGradientBoosting  0.826667   0.413333  0.061144  0.106529\n"
          ]
        }
      ],
      "source": [
        "import warnings\n",
        "warnings.filterwarnings('ignore')\n",
        "\n",
        "from sklearn.metrics import accuracy_score, precision_score, recall_score, f1_score\n",
        "\n",
        "from sklearn.ensemble import AdaBoostClassifier, HistGradientBoostingClassifier, RandomForestClassifier\n",
        "from sklearn.linear_model import LogisticRegression\n",
        "from sklearn.neighbors import KNeighborsClassifier\n",
        "from sklearn.neural_network import MLPClassifier\n",
        "from sklearn.svm import SVC\n",
        "from sklearn.tree import DecisionTreeClassifier, ExtraTreeClassifier\n",
        "from sklearn.dummy import DummyClassifier\n",
        "from sklearn.model_selection import train_test_split\n",
        "from sklearn.metrics import classification_report\n",
        "\n",
        "import xgboost as xgb\n",
        "\n",
        "# List of models to evaluate\n",
        "models = [\n",
        "    (\"AdaBoost\", AdaBoostClassifier()),\n",
        "    (\"HistGradientBoosting\", HistGradientBoostingClassifier()),\n",
        "    (\"RandomForest\", RandomForestClassifier()),\n",
        "    (\"LogisticRegression\", LogisticRegression(max_iter=1000)),\n",
        "    (\"KNeighbors\", KNeighborsClassifier()),\n",
        "    (\"MLPClassifier\", MLPClassifier(max_iter=1000)),\n",
        "    (\"SVC\", SVC()),\n",
        "    (\"DecisionTree\", DecisionTreeClassifier()),\n",
        "    (\"ExtraTree\", ExtraTreeClassifier()),\n",
        "    (\"DummyClassifier\", DummyClassifier(strategy='stratified')),\n",
        "    (\"XGBoost\", xgb.XGBClassifier(use_label_encoder=False, eval_metric='logloss'))\n",
        "]\n",
        "\n",
        "# DataFrame to store the results\n",
        "results_df = pd.DataFrame(columns=['Model', 'Accuracy', 'Precision', 'Recall', 'F1-Score'])\n",
        "\n",
        "# Evaluating each model\n",
        "for name, model in models:\n",
        "    model.fit(X_train_balanced, y_train_balanced)\n",
        "    y_pred = model.predict(X_test)\n",
        "    print(name)\n",
        "    print(classification_report(y_test, y_pred))\n",
        "    print(\"----\\n\\n\")\n",
        "    report = classification_report(y_test, y_pred, output_dict=True, zero_division=0)\n",
        "    results_df = results_df.append({\n",
        "        'Model': name,\n",
        "        'Accuracy': report['accuracy'],\n",
        "        'Precision': report['1.0']['precision'],\n",
        "        'Recall': report['1.0']['recall'],\n",
        "        'F1-Score': report['1.0']['f1-score']\n",
        "    }, ignore_index=True)\n",
        "\n",
        "# Sorting by different metrics\n",
        "sorted_by_accuracy = results_df.sort_values('Accuracy', ascending=False)\n",
        "sorted_by_precision = results_df.sort_values('Precision', ascending=False)\n",
        "sorted_by_recall = results_df.sort_values('Recall', ascending=False)\n",
        "sorted_by_f1 = results_df.sort_values('F1-Score', ascending=False)\n",
        "\n",
        "# Displaying the sorted results\n",
        "print(\"Sorted by Accuracy:\\n\", sorted_by_accuracy)\n",
        "print(\"\\nSorted by Precision:\\n\", sorted_by_precision)\n",
        "print(\"\\nSorted by Recall:\\n\", sorted_by_recall)\n",
        "print(\"\\nSorted by F1-Score:\\n\", sorted_by_f1)"
      ]
    },
    {
      "cell_type": "markdown",
      "metadata": {
        "id": "-PIy_0a3doIr"
      },
      "source": [
        "**Overall Best Performers**:\n",
        "\n",
        "-   **HistGradientBoosting** remains a strong performer in terms of accuracy and precision <u>but has lower recall and F1-scores</u>.\n",
        "-   **XGBoost** and **RandomForest** show a good balance between accuracy and F1-score.\n",
        "-   **MLPClassifier**, **SVC**, and **Logistic Regression** have lower accuracy but much higher recall and **F1-scores**, suggesting improved identification of the positive class at the expense of more false positives."
      ]
    },
    {
      "cell_type": "markdown",
      "metadata": {
        "id": "pM8aUZhBeEdq"
      },
      "source": [
        "## Models for train\n",
        "For my training, I chose **XGboost**, **Random Forest**, and the classic, well-known **Logistic Regression**"
      ]
    },
    {
      "cell_type": "markdown",
      "metadata": {
        "id": "ISucivN7ekJX"
      },
      "source": [
        "## **Logistic Regression**"
      ]
    },
    {
      "cell_type": "markdown",
      "metadata": {
        "id": "ZmhifiGReyqj"
      },
      "source": [
        "### Train **LogisticRegression** with different hyperparameters"
      ]
    },
    {
      "cell_type": "markdown",
      "metadata": {
        "id": "wChL_qoNfUiJ"
      },
      "source": [
        "#### What `C` performs better?"
      ]
    },
    {
      "cell_type": "code",
      "execution_count": 8,
      "metadata": {
        "colab": {
          "base_uri": "https://localhost:8080/"
        },
        "id": "jkivq6XId90L",
        "outputId": "201c5304-678b-4af3-dcbc-adc72671c236"
      },
      "outputs": [
        {
          "name": "stdout",
          "output_type": "stream",
          "text": [
            "Logistic Regression with C=0.001\n",
            "              precision    recall  f1-score   support\n",
            "\n",
            "         0.0       0.87      0.62      0.72      4986\n",
            "         1.0       0.22      0.54      0.32      1014\n",
            "\n",
            "    accuracy                           0.61      6000\n",
            "   macro avg       0.55      0.58      0.52      6000\n",
            "weighted avg       0.76      0.61      0.65      6000\n",
            "\n",
            "Logistic Regression with C=0.01\n",
            "              precision    recall  f1-score   support\n",
            "\n",
            "         0.0       0.87      0.62      0.72      4986\n",
            "         1.0       0.22      0.54      0.32      1014\n",
            "\n",
            "    accuracy                           0.61      6000\n",
            "   macro avg       0.55      0.58      0.52      6000\n",
            "weighted avg       0.76      0.61      0.65      6000\n",
            "\n",
            "Logistic Regression with C=0.1\n",
            "              precision    recall  f1-score   support\n",
            "\n",
            "         0.0       0.87      0.62      0.72      4986\n",
            "         1.0       0.22      0.54      0.32      1014\n",
            "\n",
            "    accuracy                           0.61      6000\n",
            "   macro avg       0.55      0.58      0.52      6000\n",
            "weighted avg       0.76      0.61      0.65      6000\n",
            "\n",
            "Logistic Regression with C=1\n",
            "              precision    recall  f1-score   support\n",
            "\n",
            "         0.0       0.87      0.62      0.72      4986\n",
            "         1.0       0.22      0.54      0.32      1014\n",
            "\n",
            "    accuracy                           0.61      6000\n",
            "   macro avg       0.55      0.58      0.52      6000\n",
            "weighted avg       0.76      0.61      0.65      6000\n",
            "\n",
            "Logistic Regression with C=10\n",
            "              precision    recall  f1-score   support\n",
            "\n",
            "         0.0       0.87      0.62      0.72      4986\n",
            "         1.0       0.22      0.54      0.32      1014\n",
            "\n",
            "    accuracy                           0.61      6000\n",
            "   macro avg       0.55      0.58      0.52      6000\n",
            "weighted avg       0.76      0.61      0.65      6000\n",
            "\n",
            "Logistic Regression with C=100\n",
            "              precision    recall  f1-score   support\n",
            "\n",
            "         0.0       0.87      0.62      0.72      4986\n",
            "         1.0       0.22      0.54      0.32      1014\n",
            "\n",
            "    accuracy                           0.61      6000\n",
            "   macro avg       0.55      0.58      0.52      6000\n",
            "weighted avg       0.76      0.61      0.65      6000\n",
            "\n"
          ]
        }
      ],
      "source": [
        "from sklearn.linear_model import LogisticRegression\n",
        "from sklearn.metrics import classification_report\n",
        "\n",
        "C = [0.001, 0.01, 0.1, 1, 10, 100]\n",
        "\n",
        "for c in C:\n",
        "    log_reg_model = LogisticRegression(C=c, solver='liblinear', max_iter=1000)\n",
        "    log_reg_model.fit(X_train_balanced, y_train_balanced)\n",
        "    log_reg_predictions = log_reg_model.predict(X_test)\n",
        "\n",
        "    # Evaluate the model\n",
        "    print(f\"Logistic Regression with C={c}\")\n",
        "    print(classification_report(y_test, log_reg_predictions))"
      ]
    },
    {
      "cell_type": "markdown",
      "metadata": {
        "id": "6YqwKccFgKdN"
      },
      "source": [
        "#### What solver performs better?"
      ]
    },
    {
      "cell_type": "code",
      "execution_count": 11,
      "metadata": {
        "colab": {
          "base_uri": "https://localhost:8080/"
        },
        "id": "ss9B9M6qgMFZ",
        "outputId": "6fbe34ca-8dc1-40c6-d5ee-88d7a2c091ad"
      },
      "outputs": [
        {
          "name": "stdout",
          "output_type": "stream",
          "text": [
            "Logistic Regression with solver: liblinear\n",
            "              precision    recall  f1-score   support\n",
            "\n",
            "         0.0       0.87      0.62      0.72      4986\n",
            "         1.0       0.22      0.54      0.32      1014\n",
            "\n",
            "    accuracy                           0.61      6000\n",
            "   macro avg       0.55      0.58      0.52      6000\n",
            "weighted avg       0.76      0.61      0.65      6000\n",
            "\n",
            "Logistic Regression with solver: saga\n",
            "              precision    recall  f1-score   support\n",
            "\n",
            "         0.0       0.87      0.62      0.72      4986\n",
            "         1.0       0.22      0.54      0.32      1014\n",
            "\n",
            "    accuracy                           0.61      6000\n",
            "   macro avg       0.55      0.58      0.52      6000\n",
            "weighted avg       0.76      0.61      0.65      6000\n",
            "\n"
          ]
        }
      ],
      "source": [
        "for solver in ['liblinear', 'saga']:\n",
        "    log_reg_model = LogisticRegression(C=0.1, solver='liblinear', max_iter=1000)\n",
        "    log_reg_model.fit(X_train_balanced, y_train_balanced)\n",
        "    log_reg_predictions = log_reg_model.predict(X_test)\n",
        "\n",
        "    # Evaluate the model\n",
        "    print(f\"Logistic Regression with solver: {solver}\")\n",
        "    print(classification_report(y_test, log_reg_predictions))"
      ]
    },
    {
      "cell_type": "markdown",
      "metadata": {
        "id": "ZgfqI4meg0ED"
      },
      "source": [
        "There seems to be no difference at all 🤷‍♂️"
      ]
    },
    {
      "cell_type": "markdown",
      "metadata": {
        "id": "I6jSn0JChJnf"
      },
      "source": [
        "### Find the best parameters and get the best model with **GridSearchCV**"
      ]
    },
    {
      "cell_type": "code",
      "execution_count": 12,
      "metadata": {
        "colab": {
          "base_uri": "https://localhost:8080/"
        },
        "id": "h7vgJJQkhAiO",
        "outputId": "f22f900d-9682-4539-bc7f-5728a2839746"
      },
      "outputs": [
        {
          "name": "stdout",
          "output_type": "stream",
          "text": [
            "Best parameters for Logistic Regression: {'C': 1, 'solver': 'liblinear'}\n",
            "Best score: 0.5469947262770838\n"
          ]
        }
      ],
      "source": [
        "from sklearn.linear_model import LogisticRegression\n",
        "from sklearn.model_selection import GridSearchCV\n",
        "\n",
        "# Set up the hyperparameter grid\n",
        "log_reg_params = {\n",
        "    'C': [0.001, 0.01, 0.1, 1, 10, 100],\n",
        "    'solver': ['liblinear', 'saga']\n",
        "}\n",
        "\n",
        "# Create the model instance\n",
        "log_reg = LogisticRegression(max_iter=1000)\n",
        "\n",
        "# Perform grid search\n",
        "log_reg_cv = GridSearchCV(log_reg, log_reg_params, cv=5, scoring='f1')\n",
        "log_reg_cv.fit(X_train_balanced, y_train_balanced)\n",
        "\n",
        "# Best parameters and best score\n",
        "print(\"Best parameters for Logistic Regression:\", log_reg_cv.best_params_)\n",
        "print(\"Best score:\", log_reg_cv.best_score_)"
      ]
    },
    {
      "cell_type": "code",
      "execution_count": 17,
      "metadata": {
        "colab": {
          "base_uri": "https://localhost:8080/",
          "height": 720
        },
        "id": "zRHdyIHHjSlW",
        "outputId": "9794628c-8e07-49d9-9342-099246938d33"
      },
      "outputs": [
        {
          "name": "stdout",
          "output_type": "stream",
          "text": [
            "              precision    recall  f1-score   support\n",
            "\n",
            "         0.0       0.87      0.62      0.72      4986\n",
            "         1.0       0.22      0.54      0.32      1014\n",
            "\n",
            "    accuracy                           0.61      6000\n",
            "   macro avg       0.55      0.58      0.52      6000\n",
            "weighted avg       0.76      0.61      0.65      6000\n",
            "\n"
          ]
        },
        {
          "data": {
            "image/png": "[encoded data removed]",
            "text/plain": [
              "<Figure size 800x600 with 2 Axes>"
            ]
          },
          "metadata": {},
          "output_type": "display_data"
        }
      ],
      "source": [
        "from sklearn.metrics import confusion_matrix\n",
        "import matplotlib.pyplot as plt\n",
        "import seaborn as sns\n",
        "\n",
        "log_reg_predictions = log_reg_cv.best_estimator_.predict(X_test)\n",
        "\n",
        "print(classification_report(y_test, log_reg_predictions))\n",
        "\n",
        "cm = confusion_matrix(y_test, log_reg_predictions)\n",
        "plt.figure(figsize=(8,6))\n",
        "sns.heatmap(cm, annot=True, fmt='d', cmap='Blues', xticklabels=['Predicted 0', 'Predicted 1'], yticklabels=['Actual 0', 'Actual 1'])\n",
        "plt.ylabel('Actual')\n",
        "plt.xlabel('Predicted')\n",
        "plt.title(f'Confusion Matrix for Logistic Regression')\n",
        "plt.show()"
      ]
    },
    {
      "cell_type": "markdown",
      "metadata": {
        "id": "Dd3cQBfgiFat"
      },
      "source": [
        "### Save the best Logistic Regression model"
      ]
    },
    {
      "cell_type": "code",
      "execution_count": 14,
      "metadata": {
        "colab": {
          "base_uri": "https://localhost:8080/"
        },
        "id": "ULEYb1AiiIbd",
        "outputId": "163a32f8-a33e-49f7-cb49-db8cce00b18d"
      },
      "outputs": [
        {
          "data": {
            "text/plain": [
              "['logistic_regression_model.pkl']"
            ]
          },
          "execution_count": 14,
          "metadata": {},
          "output_type": "execute_result"
        }
      ],
      "source": [
        "import joblib\n",
        "\n",
        "joblib.dump(log_reg_cv.best_estimator_, 'models/logistic_regression_model.pkl')"
      ]
    },
    {
      "cell_type": "markdown",
      "metadata": {
        "id": "oEB_M2oOjH5K"
      },
      "source": [
        "## **Random Forest**"
      ]
    },
    {
      "cell_type": "markdown",
      "metadata": {
        "id": "Tej0hNNUjtPn"
      },
      "source": [
        "### Train **RandomForest** with different hyperparameters"
      ]
    },
    {
      "cell_type": "markdown",
      "metadata": {
        "id": "WyiCpDO6jvlx"
      },
      "source": [
        "#### What numbers of estimators performs better?\n"
      ]
    },
    {
      "cell_type": "code",
      "execution_count": 21,
      "metadata": {
        "colab": {
          "base_uri": "https://localhost:8080/"
        },
        "id": "V-w7aD0_jnCe",
        "outputId": "8d9b23de-8217-4fce-cd58-7dce466c4b73"
      },
      "outputs": [
        {
          "name": "stdout",
          "output_type": "stream",
          "text": [
            "RandomForest Classification Report with n_estimators=10\n",
            "              precision    recall  f1-score   support\n",
            "\n",
            "         0.0       0.84      0.92      0.88      4986\n",
            "         1.0       0.23      0.12      0.16      1014\n",
            "\n",
            "    accuracy                           0.78      6000\n",
            "   macro avg       0.54      0.52      0.52      6000\n",
            "weighted avg       0.74      0.78      0.76      6000\n",
            "\n",
            "RandomForest Classification Report with n_estimators=20\n",
            "              precision    recall  f1-score   support\n",
            "\n",
            "         0.0       0.84      0.94      0.89      4986\n",
            "         1.0       0.27      0.10      0.15      1014\n",
            "\n",
            "    accuracy                           0.80      6000\n",
            "   macro avg       0.55      0.52      0.52      6000\n",
            "weighted avg       0.74      0.80      0.76      6000\n",
            "\n",
            "RandomForest Classification Report with n_estimators=50\n",
            "              precision    recall  f1-score   support\n",
            "\n",
            "         0.0       0.84      0.96      0.90      4986\n",
            "         1.0       0.31      0.09      0.13      1014\n",
            "\n",
            "    accuracy                           0.81      6000\n",
            "   macro avg       0.58      0.52      0.52      6000\n",
            "weighted avg       0.75      0.81      0.77      6000\n",
            "\n",
            "RandomForest Classification Report with n_estimators=100\n",
            "              precision    recall  f1-score   support\n",
            "\n",
            "         0.0       0.84      0.97      0.90      4986\n",
            "         1.0       0.33      0.08      0.13      1014\n",
            "\n",
            "    accuracy                           0.82      6000\n",
            "   macro avg       0.58      0.52      0.51      6000\n",
            "weighted avg       0.75      0.82      0.77      6000\n",
            "\n",
            "RandomForest Classification Report with n_estimators=200\n",
            "              precision    recall  f1-score   support\n",
            "\n",
            "         0.0       0.84      0.97      0.90      4986\n",
            "         1.0       0.32      0.07      0.11      1014\n",
            "\n",
            "    accuracy                           0.82      6000\n",
            "   macro avg       0.58      0.52      0.51      6000\n",
            "weighted avg       0.75      0.82      0.77      6000\n",
            "\n",
            "RandomForest Classification Report with n_estimators=300\n",
            "              precision    recall  f1-score   support\n",
            "\n",
            "         0.0       0.84      0.97      0.90      4986\n",
            "         1.0       0.35      0.07      0.12      1014\n",
            "\n",
            "    accuracy                           0.82      6000\n",
            "   macro avg       0.59      0.52      0.51      6000\n",
            "weighted avg       0.76      0.82      0.77      6000\n",
            "\n"
          ]
        }
      ],
      "source": [
        "from sklearn.ensemble import RandomForestClassifier\n",
        "\n",
        "for n_estimators in [10, 20, 50, 100, 200, 300]:\n",
        "    random_forest_model = RandomForestClassifier(n_estimators=n_estimators, max_depth=20)\n",
        "    random_forest_model.fit(X_train_balanced, y_train_balanced)\n",
        "    rf_predictions = random_forest_model.predict(X_test)\n",
        "\n",
        "    # Evaluate the model\n",
        "    print(f\"RandomForest Classification Report with n_estimators={n_estimators}\")\n",
        "    print(classification_report(y_test, rf_predictions))"
      ]
    },
    {
      "cell_type": "markdown",
      "metadata": {
        "id": "cwqvFKvOlJMK"
      },
      "source": [
        "#### What max depth is more optimal?"
      ]
    },
    {
      "cell_type": "code",
      "execution_count": 22,
      "metadata": {
        "colab": {
          "base_uri": "https://localhost:8080/"
        },
        "id": "yaqjPuF2lKZ5",
        "outputId": "5bc602ef-c041-4d8c-c566-a1355a44d6c4"
      },
      "outputs": [
        {
          "name": "stdout",
          "output_type": "stream",
          "text": [
            "RandomForest Classification Report with max_depth=2\n",
            "              precision    recall  f1-score   support\n",
            "\n",
            "         0.0       0.86      0.72      0.78      4986\n",
            "         1.0       0.22      0.40      0.29      1014\n",
            "\n",
            "    accuracy                           0.66      6000\n",
            "   macro avg       0.54      0.56      0.53      6000\n",
            "weighted avg       0.75      0.66      0.70      6000\n",
            "\n",
            "RandomForest Classification Report with max_depth=3\n",
            "              precision    recall  f1-score   support\n",
            "\n",
            "         0.0       0.86      0.76      0.81      4986\n",
            "         1.0       0.24      0.37      0.29      1014\n",
            "\n",
            "    accuracy                           0.69      6000\n",
            "   macro avg       0.55      0.56      0.55      6000\n",
            "weighted avg       0.75      0.69      0.72      6000\n",
            "\n",
            "RandomForest Classification Report with max_depth=5\n",
            "              precision    recall  f1-score   support\n",
            "\n",
            "         0.0       0.85      0.89      0.87      4986\n",
            "         1.0       0.29      0.21      0.25      1014\n",
            "\n",
            "    accuracy                           0.78      6000\n",
            "   macro avg       0.57      0.55      0.56      6000\n",
            "weighted avg       0.75      0.78      0.76      6000\n",
            "\n",
            "RandomForest Classification Report with max_depth=10\n",
            "              precision    recall  f1-score   support\n",
            "\n",
            "         0.0       0.84      0.98      0.90      4986\n",
            "         1.0       0.33      0.06      0.10      1014\n",
            "\n",
            "    accuracy                           0.82      6000\n",
            "   macro avg       0.58      0.52      0.50      6000\n",
            "weighted avg       0.75      0.82      0.77      6000\n",
            "\n",
            "RandomForest Classification Report with max_depth=20\n",
            "              precision    recall  f1-score   support\n",
            "\n",
            "         0.0       0.84      0.97      0.90      4986\n",
            "         1.0       0.33      0.07      0.12      1014\n",
            "\n",
            "    accuracy                           0.82      6000\n",
            "   macro avg       0.58      0.52      0.51      6000\n",
            "weighted avg       0.75      0.82      0.77      6000\n",
            "\n",
            "RandomForest Classification Report with max_depth=50\n",
            "              precision    recall  f1-score   support\n",
            "\n",
            "         0.0       0.84      0.97      0.90      4986\n",
            "         1.0       0.32      0.06      0.10      1014\n",
            "\n",
            "    accuracy                           0.82      6000\n",
            "   macro avg       0.58      0.52      0.50      6000\n",
            "weighted avg       0.75      0.82      0.76      6000\n",
            "\n"
          ]
        }
      ],
      "source": [
        "from sklearn.ensemble import RandomForestClassifier\n",
        "\n",
        "for max_depth in [2, 3, 5, 10, 20, 50]:\n",
        "    random_forest_model = RandomForestClassifier(n_estimators=100, max_depth=max_depth)\n",
        "    random_forest_model.fit(X_train_balanced, y_train_balanced)\n",
        "    rf_predictions = random_forest_model.predict(X_test)\n",
        "\n",
        "    # Evaluate the model\n",
        "    print(f\"RandomForest Classification Report with max_depth={max_depth}\")\n",
        "    print(classification_report(y_test, rf_predictions))"
      ]
    },
    {
      "cell_type": "markdown",
      "metadata": {
        "id": "hUB8w3zCm531"
      },
      "source": [
        "#### What the `min_samples_split` is the best?"
      ]
    },
    {
      "cell_type": "code",
      "execution_count": 24,
      "metadata": {
        "colab": {
          "base_uri": "https://localhost:8080/"
        },
        "id": "2jHGL5Gjm9WP",
        "outputId": "24c512ca-2c19-444e-c5f7-857838899dda"
      },
      "outputs": [
        {
          "name": "stdout",
          "output_type": "stream",
          "text": [
            "RandomForest Classification Report with min_samples_split=2\n",
            "              precision    recall  f1-score   support\n",
            "\n",
            "         0.0       0.84      0.97      0.90      4986\n",
            "         1.0       0.32      0.07      0.11      1014\n",
            "\n",
            "    accuracy                           0.82      6000\n",
            "   macro avg       0.58      0.52      0.50      6000\n",
            "weighted avg       0.75      0.82      0.77      6000\n",
            "\n",
            "RandomForest Classification Report with min_samples_split=5\n",
            "              precision    recall  f1-score   support\n",
            "\n",
            "         0.0       0.84      0.97      0.90      4986\n",
            "         1.0       0.36      0.07      0.12      1014\n",
            "\n",
            "    accuracy                           0.82      6000\n",
            "   macro avg       0.60      0.52      0.51      6000\n",
            "weighted avg       0.76      0.82      0.77      6000\n",
            "\n",
            "RandomForest Classification Report with min_samples_split=7\n",
            "              precision    recall  f1-score   support\n",
            "\n",
            "         0.0       0.84      0.97      0.90      4986\n",
            "         1.0       0.36      0.08      0.13      1014\n",
            "\n",
            "    accuracy                           0.82      6000\n",
            "   macro avg       0.60      0.53      0.52      6000\n",
            "weighted avg       0.76      0.82      0.77      6000\n",
            "\n",
            "RandomForest Classification Report with min_samples_split=10\n",
            "              precision    recall  f1-score   support\n",
            "\n",
            "         0.0       0.84      0.97      0.90      4986\n",
            "         1.0       0.36      0.08      0.13      1014\n",
            "\n",
            "    accuracy                           0.82      6000\n",
            "   macro avg       0.60      0.53      0.51      6000\n",
            "weighted avg       0.76      0.82      0.77      6000\n",
            "\n"
          ]
        }
      ],
      "source": [
        "from sklearn.ensemble import RandomForestClassifier\n",
        "\n",
        "for min_samples_split in [2, 5, 7, 10]:\n",
        "    random_forest_model = RandomForestClassifier(n_estimators=100, max_depth=10, min_samples_split=min_samples_split)\n",
        "    random_forest_model.fit(X_train_balanced, y_train_balanced)\n",
        "    rf_predictions = random_forest_model.predict(X_test)\n",
        "\n",
        "    # Evaluate the model\n",
        "    print(f\"RandomForest Classification Report with min_samples_split={min_samples_split}\")\n",
        "    print(classification_report(y_test, rf_predictions))"
      ]
    },
    {
      "cell_type": "markdown",
      "metadata": {
        "id": "GBrP9ReimzEL"
      },
      "source": [
        "### Find the best parameters and get the best model with **GridSearchCV**"
      ]
    },
    {
      "cell_type": "code",
      "execution_count": 25,
      "metadata": {
        "colab": {
          "base_uri": "https://localhost:8080/",
          "height": 755
        },
        "id": "JrEccf2bm0O8",
        "outputId": "6e22feaf-3a99-448f-bf8a-07175a03f3f1"
      },
      "outputs": [
        {
          "name": "stdout",
          "output_type": "stream",
          "text": [
            "Best parameters for RandomForest: {'max_depth': 30, 'min_samples_split': 5, 'n_estimators': 200}\n",
            "Best score: 0.7874173018853414\n",
            "              precision    recall  f1-score   support\n",
            "\n",
            "         0.0       0.84      0.97      0.90      4986\n",
            "         1.0       0.34      0.07      0.11      1014\n",
            "\n",
            "    accuracy                           0.82      6000\n",
            "   macro avg       0.59      0.52      0.50      6000\n",
            "weighted avg       0.75      0.82      0.77      6000\n",
            "\n"
          ]
        },
        {
          "data": {
            "image/png": "[encoded data removed]",
            "text/plain": [
              "<Figure size 800x600 with 2 Axes>"
            ]
          },
          "metadata": {},
          "output_type": "display_data"
        }
      ],
      "source": [
        "from sklearn.ensemble import RandomForestClassifier\n",
        "from sklearn.metrics import confusion_matrix\n",
        "import matplotlib.pyplot as plt\n",
        "import seaborn as sns\n",
        "\n",
        "# Hyperparameter grid\n",
        "rf_params = {\n",
        "    'n_estimators': [50, 100, 200],\n",
        "    'max_depth': [10, 20, 30],\n",
        "    'min_samples_split': [5, 7, 10]\n",
        "}\n",
        "\n",
        "# Model instance\n",
        "random_forest = RandomForestClassifier()\n",
        "\n",
        "# Grid search\n",
        "rf_cv = GridSearchCV(random_forest, rf_params, cv=5, scoring='f1')\n",
        "rf_cv.fit(X_train_balanced, y_train_balanced)\n",
        "\n",
        "# Best parameters and score\n",
        "print(\"Best parameters for RandomForest:\", rf_cv.best_params_)\n",
        "print(\"Best score:\", rf_cv.best_score_)\n",
        "\n",
        "rf_predictions = rf_cv.best_estimator_.predict(X_test)\n",
        "\n",
        "print(classification_report(y_test, rf_predictions))\n",
        "\n",
        "cm = confusion_matrix(y_test, rf_predictions)\n",
        "plt.figure(figsize=(8,6))\n",
        "sns.heatmap(cm, annot=True, fmt='d', cmap='Blues', xticklabels=['Predicted 0', 'Predicted 1'], yticklabels=['Actual 0', 'Actual 1'])\n",
        "plt.ylabel('Actual')\n",
        "plt.xlabel('Predicted')\n",
        "plt.title(f'Confusion Matrix for Random Forest')\n",
        "plt.show()"
      ]
    },
    {
      "cell_type": "markdown",
      "metadata": {
        "id": "Fi0r5EsNn9JR"
      },
      "source": [
        "### Save the best **Random Forest** model"
      ]
    },
    {
      "cell_type": "code",
      "execution_count": 26,
      "metadata": {
        "colab": {
          "base_uri": "https://localhost:8080/"
        },
        "id": "nA39oro-oP5f",
        "outputId": "8ce9c8d1-965a-438d-c323-8bb2961b6a51"
      },
      "outputs": [
        {
          "data": {
            "text/plain": [
              "['random_forest_model.pkl']"
            ]
          },
          "execution_count": 26,
          "metadata": {},
          "output_type": "execute_result"
        }
      ],
      "source": [
        "import joblib\n",
        "\n",
        "joblib.dump(rf_cv.best_estimator_, 'models/random_forest_model.pkl')"
      ]
    },
    {
      "cell_type": "markdown",
      "metadata": {
        "id": "5SuMA4ZJoh2k"
      },
      "source": [
        "## **XGBoost**"
      ]
    },
    {
      "cell_type": "markdown",
      "metadata": {
        "id": "1C6i2bVjpEFk"
      },
      "source": [
        "### Train **XGBoost** with different hyperparameters"
      ]
    },
    {
      "cell_type": "markdown",
      "metadata": {
        "id": "exHQxnR0pNh5"
      },
      "source": [
        "#### What the numbers of estimators performs better?"
      ]
    },
    {
      "cell_type": "code",
      "execution_count": 27,
      "metadata": {
        "colab": {
          "base_uri": "https://localhost:8080/"
        },
        "id": "Bj384E86okNP",
        "outputId": "37b05daf-fe99-4350-f756-c46ff8522d2a"
      },
      "outputs": [
        {
          "name": "stdout",
          "output_type": "stream",
          "text": [
            "XGBoost Classification Report with n_estimators=50\n",
            "              precision    recall  f1-score   support\n",
            "\n",
            "         0.0       0.84      0.97      0.90      4986\n",
            "         1.0       0.40      0.08      0.14      1014\n",
            "\n",
            "    accuracy                           0.82      6000\n",
            "   macro avg       0.62      0.53      0.52      6000\n",
            "weighted avg       0.76      0.82      0.77      6000\n",
            "\n",
            "XGBoost Classification Report with n_estimators=100\n",
            "              precision    recall  f1-score   support\n",
            "\n",
            "         0.0       0.84      0.96      0.90      4986\n",
            "         1.0       0.39      0.11      0.18      1014\n",
            "\n",
            "    accuracy                           0.82      6000\n",
            "   macro avg       0.61      0.54      0.54      6000\n",
            "weighted avg       0.77      0.82      0.78      6000\n",
            "\n",
            "XGBoost Classification Report with n_estimators=200\n",
            "              precision    recall  f1-score   support\n",
            "\n",
            "         0.0       0.84      0.95      0.89      4986\n",
            "         1.0       0.32      0.11      0.17      1014\n",
            "\n",
            "    accuracy                           0.81      6000\n",
            "   macro avg       0.58      0.53      0.53      6000\n",
            "weighted avg       0.75      0.81      0.77      6000\n",
            "\n",
            "XGBoost Classification Report with n_estimators=300\n",
            "              precision    recall  f1-score   support\n",
            "\n",
            "         0.0       0.84      0.95      0.89      4986\n",
            "         1.0       0.33      0.13      0.19      1014\n",
            "\n",
            "    accuracy                           0.81      6000\n",
            "   macro avg       0.59      0.54      0.54      6000\n",
            "weighted avg       0.76      0.81      0.77      6000\n",
            "\n"
          ]
        }
      ],
      "source": [
        "for n_estimators in [50, 100, 200, 300]:\n",
        "    # Create XGBoost model with specified hyperparameters\n",
        "    xgboost_model = xgb.XGBClassifier(n_estimators=n_estimators)\n",
        "    xgboost_model.fit(X_train_balanced, y_train_balanced)\n",
        "    xgb_predictions = xgboost_model.predict(X_test)\n",
        "\n",
        "    # Evaluate the model\n",
        "    print(f\"XGBoost Classification Report with n_estimators={n_estimators}\")\n",
        "    print(classification_report(y_test, xgb_predictions))"
      ]
    },
    {
      "cell_type": "markdown",
      "metadata": {
        "id": "N3giU9lMqI9Z"
      },
      "source": [
        "#### What max depth is more optimal?"
      ]
    },
    {
      "cell_type": "code",
      "execution_count": 28,
      "metadata": {
        "colab": {
          "base_uri": "https://localhost:8080/"
        },
        "id": "NrlTpSRGqPcr",
        "outputId": "859048e0-94cc-464f-e034-28142df521d5"
      },
      "outputs": [
        {
          "name": "stdout",
          "output_type": "stream",
          "text": [
            "XGBoost Classification Report with max_depth=3\n",
            "              precision    recall  f1-score   support\n",
            "\n",
            "         0.0       0.83      0.99      0.91      4986\n",
            "         1.0       0.41      0.04      0.07      1014\n",
            "\n",
            "    accuracy                           0.83      6000\n",
            "   macro avg       0.62      0.51      0.49      6000\n",
            "weighted avg       0.76      0.83      0.76      6000\n",
            "\n",
            "XGBoost Classification Report with max_depth=5\n",
            "              precision    recall  f1-score   support\n",
            "\n",
            "         0.0       0.84      0.98      0.90      4986\n",
            "         1.0       0.41      0.07      0.12      1014\n",
            "\n",
            "    accuracy                           0.83      6000\n",
            "   macro avg       0.62      0.53      0.51      6000\n",
            "weighted avg       0.77      0.83      0.77      6000\n",
            "\n",
            "XGBoost Classification Report with max_depth=7\n",
            "              precision    recall  f1-score   support\n",
            "\n",
            "         0.0       0.84      0.95      0.89      4986\n",
            "         1.0       0.32      0.11      0.16      1014\n",
            "\n",
            "    accuracy                           0.81      6000\n",
            "   macro avg       0.58      0.53      0.53      6000\n",
            "weighted avg       0.75      0.81      0.77      6000\n",
            "\n",
            "XGBoost Classification Report with max_depth=10\n",
            "              precision    recall  f1-score   support\n",
            "\n",
            "         0.0       0.84      0.95      0.89      4986\n",
            "         1.0       0.32      0.11      0.17      1014\n",
            "\n",
            "    accuracy                           0.81      6000\n",
            "   macro avg       0.58      0.53      0.53      6000\n",
            "weighted avg       0.75      0.81      0.77      6000\n",
            "\n",
            "XGBoost Classification Report with max_depth=20\n",
            "              precision    recall  f1-score   support\n",
            "\n",
            "         0.0       0.84      0.96      0.89      4986\n",
            "         1.0       0.32      0.10      0.15      1014\n",
            "\n",
            "    accuracy                           0.81      6000\n",
            "   macro avg       0.58      0.53      0.52      6000\n",
            "weighted avg       0.75      0.81      0.77      6000\n",
            "\n"
          ]
        }
      ],
      "source": [
        "for max_depth in [3, 5, 7, 10, 20]:\n",
        "    # Create XGBoost model with specified hyperparameters\n",
        "    xgboost_model = xgb.XGBClassifier(n_estimators=100, max_depth=max_depth)\n",
        "    xgboost_model.fit(X_train_balanced, y_train_balanced)\n",
        "    xgb_predictions = xgboost_model.predict(X_test)\n",
        "\n",
        "    # Evaluate the model\n",
        "    print(f\"XGBoost Classification Report with max_depth={max_depth}\")\n",
        "    print(classification_report(y_test, xgb_predictions))"
      ]
    },
    {
      "cell_type": "markdown",
      "metadata": {
        "id": "ZidXRhQSqgYD"
      },
      "source": [
        "#### What the learning rate is the best?"
      ]
    },
    {
      "cell_type": "code",
      "execution_count": 31,
      "metadata": {
        "colab": {
          "base_uri": "https://localhost:8080/"
        },
        "id": "mcfiLK6HqlJY",
        "outputId": "9d8be1c4-7d61-4742-9e56-b1debf82375f"
      },
      "outputs": [
        {
          "name": "stdout",
          "output_type": "stream",
          "text": [
            "XGBoost Classification Report with learning_rate=0.001\n",
            "              precision    recall  f1-score   support\n",
            "\n",
            "         0.0       0.83      1.00      0.91      4986\n",
            "         1.0       0.00      0.00      0.00      1014\n",
            "\n",
            "    accuracy                           0.83      6000\n",
            "   macro avg       0.42      0.50      0.45      6000\n",
            "weighted avg       0.69      0.83      0.75      6000\n",
            "\n",
            "XGBoost Classification Report with learning_rate=0.01\n",
            "              precision    recall  f1-score   support\n",
            "\n",
            "         0.0       0.83      1.00      0.91      4986\n",
            "         1.0       0.50      0.00      0.00      1014\n",
            "\n",
            "    accuracy                           0.83      6000\n",
            "   macro avg       0.67      0.50      0.45      6000\n",
            "weighted avg       0.78      0.83      0.75      6000\n",
            "\n",
            "XGBoost Classification Report with learning_rate=0.03\n",
            "              precision    recall  f1-score   support\n",
            "\n",
            "         0.0       0.83      1.00      0.91      4986\n",
            "         1.0       0.58      0.02      0.03      1014\n",
            "\n",
            "    accuracy                           0.83      6000\n",
            "   macro avg       0.71      0.51      0.47      6000\n",
            "weighted avg       0.79      0.83      0.76      6000\n",
            "\n",
            "XGBoost Classification Report with learning_rate=0.1\n",
            "              precision    recall  f1-score   support\n",
            "\n",
            "         0.0       0.83      0.99      0.91      4986\n",
            "         1.0       0.41      0.03      0.05      1014\n",
            "\n",
            "    accuracy                           0.83      6000\n",
            "   macro avg       0.62      0.51      0.48      6000\n",
            "weighted avg       0.76      0.83      0.76      6000\n",
            "\n",
            "XGBoost Classification Report with learning_rate=0.3\n",
            "              precision    recall  f1-score   support\n",
            "\n",
            "         0.0       0.84      0.98      0.90      4986\n",
            "         1.0       0.41      0.07      0.12      1014\n",
            "\n",
            "    accuracy                           0.83      6000\n",
            "   macro avg       0.62      0.53      0.51      6000\n",
            "weighted avg       0.77      0.83      0.77      6000\n",
            "\n",
            "XGBoost Classification Report with learning_rate=1\n",
            "              precision    recall  f1-score   support\n",
            "\n",
            "         0.0       0.84      0.90      0.87      4986\n",
            "         1.0       0.24      0.16      0.19      1014\n",
            "\n",
            "    accuracy                           0.77      6000\n",
            "   macro avg       0.54      0.53      0.53      6000\n",
            "weighted avg       0.74      0.77      0.75      6000\n",
            "\n"
          ]
        }
      ],
      "source": [
        "for learning_rate in [0.001, 0.01, 0.03, 0.1, 0.3, 1]:\n",
        "    # Create XGBoost model with specified hyperparameters\n",
        "    xgboost_model = xgb.XGBClassifier(n_estimators=100, max_depth=5, learning_rate=learning_rate)\n",
        "    xgboost_model.fit(X_train_balanced, y_train_balanced)\n",
        "    xgb_predictions = xgboost_model.predict(X_test)\n",
        "\n",
        "    # Evaluate the model\n",
        "    print(f\"XGBoost Classification Report with learning_rate={learning_rate}\")\n",
        "    print(classification_report(y_test, xgb_predictions))"
      ]
    },
    {
      "cell_type": "markdown",
      "metadata": {
        "id": "5RcmnCKhrAf9"
      },
      "source": [
        "### Find the best parameters and get the best model with **GridSearchCV**"
      ]
    },
    {
      "cell_type": "code",
      "execution_count": 34,
      "metadata": {
        "colab": {
          "base_uri": "https://localhost:8080/",
          "height": 755
        },
        "id": "OqROWissrxCL",
        "outputId": "8e8d3698-2be3-4512-875e-de35e8ce71f5"
      },
      "outputs": [
        {
          "name": "stdout",
          "output_type": "stream",
          "text": [
            "Best parameters for XGBoost: {'learning_rate': 0.2, 'max_depth': 4, 'n_estimators': 150}\n",
            "Best score: 0.7662635746025097\n",
            "              precision    recall  f1-score   support\n",
            "\n",
            "         0.0       0.84      0.98      0.90      4986\n",
            "         1.0       0.35      0.05      0.08      1014\n",
            "\n",
            "    accuracy                           0.82      6000\n",
            "   macro avg       0.59      0.51      0.49      6000\n",
            "weighted avg       0.75      0.82      0.76      6000\n",
            "\n"
          ]
        },
        {
          "data": {
            "image/png": "[encoded data removed]",
            "text/plain": [
              "<Figure size 800x600 with 2 Axes>"
            ]
          },
          "metadata": {},
          "output_type": "display_data"
        }
      ],
      "source": [
        "import xgboost as xgb\n",
        "\n",
        "# Hyperparameter grid\n",
        "xgb_params = {\n",
        "    'n_estimators': [75, 100, 150],\n",
        "    'learning_rate': [0.2, 0.3, 0.4],\n",
        "    'max_depth': [4, 5, 6]\n",
        "}\n",
        "\n",
        "# Model instance\n",
        "xgboost = xgb.XGBClassifier(use_label_encoder=False, eval_metric='logloss')\n",
        "\n",
        "# Grid search\n",
        "xgb_cv = GridSearchCV(xgboost, xgb_params, cv=5, scoring='f1')\n",
        "xgb_cv.fit(X_train_balanced, y_train_balanced)\n",
        "\n",
        "# Best parameters and score\n",
        "print(\"Best parameters for XGBoost:\", xgb_cv.best_params_)\n",
        "print(\"Best score:\", xgb_cv.best_score_)\n",
        "\n",
        "xgb_predictions = xgb_cv.best_estimator_.predict(X_test)\n",
        "\n",
        "print(classification_report(y_test, xgb_predictions))\n",
        "\n",
        "cm = confusion_matrix(y_test, xgb_predictions)\n",
        "plt.figure(figsize=(8,6))\n",
        "sns.heatmap(cm, annot=True, fmt='d', cmap='Blues', xticklabels=['Predicted 0', 'Predicted 1'], yticklabels=['Actual 0', 'Actual 1'])\n",
        "plt.ylabel('Actual')\n",
        "plt.xlabel('Predicted')\n",
        "plt.title(f'Confusion Matrix for Random Forest')\n",
        "plt.show()"
      ]
    },
    {
      "cell_type": "markdown",
      "metadata": {
        "id": "N6CX-LKAsk6q"
      },
      "source": [
        "### Save the best **XGBoost** model"
      ]
    },
    {
      "cell_type": "code",
      "execution_count": 35,
      "metadata": {
        "id": "mOtOcLe2slO4"
      },
      "outputs": [],
      "source": [
        "xgb_cv.best_estimator_.save_model('models/xgboost_model.bin')"
      ]
    }
  ],
  "metadata": {
    "colab": {
      "provenance": []
    },
    "kernelspec": {
      "display_name": "Python 3",
      "name": "python3"
    },
    "language_info": {
      "name": "python"
    }
  },
  "nbformat": 4,
  "nbformat_minor": 0
}
